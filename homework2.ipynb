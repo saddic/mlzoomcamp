{
 "cells": [
  {
   "cell_type": "code",
   "execution_count": 35,
   "id": "7606d016",
   "metadata": {},
   "outputs": [],
   "source": [
    "import pandas as pd \n",
    "import numpy as np\n",
    "import seaborn as sns\n",
    "import matplotlib.pyplot as plt"
   ]
  },
  {
   "cell_type": "code",
   "execution_count": 36,
   "id": "22460173",
   "metadata": {},
   "outputs": [
    {
     "data": {
      "image/png": "[encoded data removed]",
      "text/plain": [
       "<Figure size 640x480 with 1 Axes>"
      ]
     },
     "metadata": {},
     "output_type": "display_data"
    }
   ],
   "source": [
    "# Load the data.\n",
    "# Look at the median_house_value variable. Does it have a long tail?\n",
    "df=pd.read_csv('housing.csv')\n",
    "df['median_house_value'].plot(kind='hist');"
   ]
  },
  {
   "cell_type": "code",
   "execution_count": 37,
   "id": "9cc65423",
   "metadata": {},
   "outputs": [
    {
     "data": {
      "text/plain": [
       "Index(['latitude', 'longitude', 'housing_median_age', 'total_rooms',\n",
       "       'total_bedrooms', 'population', 'households', 'median_income',\n",
       "       'median_house_value'],\n",
       "      dtype='object')"
      ]
     },
     "execution_count": 37,
     "metadata": {},
     "output_type": "execute_result"
    }
   ],
   "source": [
    "# For this homework, we only want to use a subset of data.\n",
    "\n",
    "# First, keep only the records where ocean_proximity is either '<1H OCEAN' or 'INLAND'\n",
    "\n",
    "# Next, use only the following columns:\n",
    "\n",
    "# 'latitude',\n",
    "# 'longitude',\n",
    "# 'housing_median_age',\n",
    "# 'total_rooms',\n",
    "# 'total_bedrooms',\n",
    "# 'population',\n",
    "# 'households',\n",
    "# 'median_income',\n",
    "# 'median_house_value'\n",
    "\n",
    "\n",
    "\n",
    "df=df.query(\"\"\"\n",
    " ocean_proximity in ('<1H OCEAN','INLAND')\n",
    "\n",
    "\"\"\"\n",
    ")\n",
    "\n",
    "df['ocean_proximity'].unique()\n",
    "\n",
    "df=df[['latitude',\n",
    "'longitude',\n",
    "'housing_median_age',\n",
    "'total_rooms',\n",
    "'total_bedrooms',\n",
    "'population',\n",
    "'households',\n",
    "'median_income',\n",
    "'median_house_value'\n",
    "]]\n",
    "\n",
    "df.columns\n"
   ]
  },
  {
   "cell_type": "code",
   "execution_count": 38,
   "id": "833e60c1",
   "metadata": {},
   "outputs": [
    {
     "data": {
      "text/plain": [
       "latitude                0\n",
       "longitude               0\n",
       "housing_median_age      0\n",
       "total_rooms             0\n",
       "total_bedrooms        157\n",
       "population              0\n",
       "households              0\n",
       "median_income           0\n",
       "median_house_value      0\n",
       "dtype: int64"
      ]
     },
     "execution_count": 38,
     "metadata": {},
     "output_type": "execute_result"
    }
   ],
   "source": [
    "# Q1 There's one feature with missing values. What is it?\n",
    "df.isnull().sum()"
   ]
  },
  {
   "cell_type": "code",
   "execution_count": 39,
   "id": "25a82ef1",
   "metadata": {},
   "outputs": [
    {
     "data": {
      "text/plain": [
       "count    15687.000000\n",
       "mean      1466.317205\n",
       "std       1180.389908\n",
       "min          3.000000\n",
       "25%        802.000000\n",
       "50%       1195.000000\n",
       "75%       1777.000000\n",
       "max      35682.000000\n",
       "Name: population, dtype: float64"
      ]
     },
     "execution_count": 39,
     "metadata": {},
     "output_type": "execute_result"
    }
   ],
   "source": [
    "# Q2 What's the median (50% percentile) for variable 'population'\n",
    "\n",
    "df['population'].describe()"
   ]
  },
  {
   "cell_type": "code",
   "execution_count": 40,
   "id": "458f1017",
   "metadata": {},
   "outputs": [],
   "source": [
    "# Shuffle the dataset (the filtered one you created above), use seed 42.\n",
    "n=len(df)\n",
    "idx=np.arange(n)\n",
    "np.random.seed(42)\n",
    "np.random.shuffle(idx)\n",
    "\n"
   ]
  },
  {
   "cell_type": "code",
   "execution_count": 41,
   "id": "0e0eea05",
   "metadata": {},
   "outputs": [],
   "source": [
    "# Split your data in train/val/test sets, with 60%/20%/20% distribution.\n",
    "\n",
    "\n",
    "n_val= int(n*0.2)\n",
    "n_test= int(n*0.2)\n",
    "n_train= int (n-n_val-n_test)\n",
    "#print(n_train,n_val,n_val)\n",
    "\n",
    "df_train=df.iloc[idx[:n_train]]\n",
    "df_val= df.iloc[idx[n_train:n_val+n_train]]\n",
    "df_test=df.iloc[idx[n_train+n_val:]]\n",
    "#print(len(df_train),len(df_val),len(df_test))\n"
   ]
  },
  {
   "cell_type": "code",
   "execution_count": 42,
   "id": "359397fa",
   "metadata": {},
   "outputs": [],
   "source": [
    "# Apply the log transformation to the median_house_value variable using the np.log1p() function\n",
    "\n",
    "y_train=np.log1p(df_train.median_house_value.values)\n",
    "y_val= np.log1p(df_val.median_house_value.values)\n",
    "y_test=np.log1p(df_test.median_house_value.values)"
   ]
  },
  {
   "cell_type": "code",
   "execution_count": 43,
   "id": "7729d1a3",
   "metadata": {},
   "outputs": [
    {
     "data": {
      "text/plain": [
       "array([11.16196275, 12.32163544, 12.4718963 , ..., 13.12236738,\n",
       "       12.11888489, 12.52924613])"
      ]
     },
     "execution_count": 43,
     "metadata": {},
     "output_type": "execute_result"
    }
   ],
   "source": [
    "y_train"
   ]
  },
  {
   "cell_type": "code",
   "execution_count": 44,
   "id": "7d719186",
   "metadata": {},
   "outputs": [],
   "source": [
    "del df_train['median_house_value']\n",
    "del df_val['median_house_value']\n",
    "del df_test['median_house_value']"
   ]
  },
  {
   "cell_type": "code",
   "execution_count": 45,
   "id": "9e079030",
   "metadata": {},
   "outputs": [
    {
     "data": {
      "text/plain": [
       "Index(['latitude', 'longitude', 'housing_median_age', 'total_rooms',\n",
       "       'total_bedrooms', 'population', 'households', 'median_income'],\n",
       "      dtype='object')"
      ]
     },
     "execution_count": 45,
     "metadata": {},
     "output_type": "execute_result"
    }
   ],
   "source": [
    "df_train.columns"
   ]
  },
  {
   "cell_type": "code",
   "execution_count": 46,
   "id": "9e6046a7",
   "metadata": {},
   "outputs": [],
   "source": [
    "# We need to deal with missing values for the column from Q1.\n",
    "# We have two options: fill it with 0 or with the mean of this variable.\n",
    "\n",
    "df_train_O=df_train.fillna(0)\n",
    "df_train_m=df_train.fillna(df_train['total_bedrooms'].mean())\n",
    "\n",
    "\n",
    "df_val_O=df_val.fillna(0)\n",
    "df_val_m=df_val.fillna(df_train['total_bedrooms'].mean())"
   ]
  },
  {
   "cell_type": "code",
   "execution_count": 47,
   "id": "6d0cdbad",
   "metadata": {},
   "outputs": [],
   "source": [
    "# Try both options. For each, train a linear regression model without regularization using the code from the lessons.\n",
    "# For computing the mean, use the training only!\n",
    "\n",
    "def train_linear_regression(X,y):\n",
    "    ones=np.ones(X.shape[0])\n",
    "    X=np.column_stack([ones,X])\n",
    "    \n",
    "    \n",
    "    XTX=X.T.dot(X)\n",
    "    XTX_inv =np.linalg.inv(XTX)\n",
    "    w_full=XTX_inv.dot(X.T).dot(y)\n",
    "    \n",
    "    \n",
    "    return w_full[0],w_full[1:]"
   ]
  },
  {
   "cell_type": "code",
   "execution_count": 48,
   "id": "04edd6c6",
   "metadata": {},
   "outputs": [],
   "source": [
    "w0,w=train_linear_regression(df_train_O.values,y_train)\n",
    "w0_m,w_m=train_linear_regression(df_train_m,y_train)\n",
    "\n",
    "#Use the validation dataset to evaluate the models and compare the RMSE of each option.\n",
    "y_pred_0=w0+df_val_O.dot(w)\n",
    "y_pred_m=w0_m+df_val_m.dot(w_m)"
   ]
  },
  {
   "cell_type": "code",
   "execution_count": null,
   "id": "cf96c72e",
   "metadata": {},
   "outputs": [],
   "source": []
  },
  {
   "cell_type": "code",
   "execution_count": 49,
   "id": "91332d51",
   "metadata": {},
   "outputs": [
    {
     "data": {
      "image/png": "[encoded data removed]",
      "text/plain": [
       "<Figure size 640x480 with 1 Axes>"
      ]
     },
     "metadata": {},
     "output_type": "display_data"
    }
   ],
   "source": [
    "sns.histplot(y_train,color='blue',legend='Target')\n",
    "sns.histplot(y_pred_0,color='red',legend='Prediction');"
   ]
  },
  {
   "cell_type": "code",
   "execution_count": 50,
   "id": "d93b0cd8",
   "metadata": {},
   "outputs": [
    {
     "data": {
      "image/png": "[encoded data removed]",
      "text/plain": [
       "<Figure size 640x480 with 1 Axes>"
      ]
     },
     "metadata": {},
     "output_type": "display_data"
    }
   ],
   "source": [
    "sns.histplot(y_train,color='blue',legend='Target')\n",
    "sns.histplot(y_pred_m,color='red',legend='Prediction');"
   ]
  },
  {
   "cell_type": "code",
   "execution_count": 51,
   "id": "95be5f85",
   "metadata": {},
   "outputs": [],
   "source": [
    "def rmse(y,y_pred):\n",
    "    se= (y-y_pred)**2\n",
    "    mse=se.mean()\n",
    "    return np.sqrt(mse)"
   ]
  },
  {
   "cell_type": "code",
   "execution_count": 52,
   "id": "2dffc0e8",
   "metadata": {},
   "outputs": [
    {
     "name": "stdout",
     "output_type": "stream",
     "text": [
      "0.34\n",
      "0.34\n"
     ]
    }
   ],
   "source": [
    "# Use the validation dataset to evaluate the models and compare the RMSE of each option.\n",
    "# Round the RMSE scores to 2 decimal digits using round(score, 2)\n",
    "print(round(rmse(y_val,y_pred_0),2))\n",
    "print(round(rmse(y_val,y_pred_m),2))"
   ]
  },
  {
   "cell_type": "code",
   "execution_count": 53,
   "id": "533d1171",
   "metadata": {},
   "outputs": [],
   "source": [
    "# Now let's train a regularized linear regression.\n",
    "# For this question, fill the NAs with 0.\n",
    "# Try different values of r from this list: [0, 0.000001, 0.0001, 0.001, 0.01, 0.1, 1, 5, 10].\n",
    "# Use RMSE to evaluate the model on the validation dataset.\n",
    "# Round the RMSE scores to 2 decimal digits.\n",
    "# Which r gives the best RMSE?\n",
    "# If there are multiple options, select the smallest r\n",
    "\n",
    "\n",
    "def train_linear_regression_reg(X,y,r=0.01):\n",
    "    ones=np.ones(X.shape[0])\n",
    "    X=np.column_stack([ones,X])\n",
    "    \n",
    "    \n",
    "    XTX=X.T.dot(X)\n",
    "    XTX=XTX+r*np.eye(XTX.shape[0])\n",
    "    XTX_inv =np.linalg.inv(XTX)\n",
    "    w_full=XTX_inv.dot(X.T).dot(y)\n",
    "    \n",
    "    \n",
    "    return w_full[0],w_full[1:]"
   ]
  },
  {
   "cell_type": "code",
   "execution_count": 54,
   "id": "a12710eb",
   "metadata": {},
   "outputs": [
    {
     "name": "stdout",
     "output_type": "stream",
     "text": [
      "0 0.34\n",
      "1e-06 0.34\n",
      "0.0001 0.34\n",
      "0.001 0.34\n",
      "0.01 0.34\n",
      "0.1 0.34\n",
      "1 0.34\n",
      "5 0.35\n",
      "10 0.35\n"
     ]
    }
   ],
   "source": [
    "for r in [0, 0.000001, 0.0001, 0.001, 0.01, 0.1, 1, 5, 10]:\n",
    "    w0_r,w_r=train_linear_regression_reg(df_train_O,y_train,r=r)\n",
    "    y_pred_r=w0_r+df_val_O.dot(w_r)\n",
    "    score=rmse(y_pred_r,y_val)\n",
    "    print(r,round(score,2))"
   ]
  },
  {
   "cell_type": "code",
   "execution_count": 61,
   "id": "14d20a65",
   "metadata": {},
   "outputs": [],
   "source": [
    "# We used seed 42 for splitting the data. Let's find out how selecting the seed influences our score.\n",
    "# Try different seed values: [0, 1, 2, 3, 4, 5, 6, 7, 8, 9].\n",
    "# For each seed, do the train/validation/test split with 60%/20%/20% distribution.\n",
    "# Fill the missing values with 0 and train a model without regularization.\n",
    "# For each seed, evaluate the model on the validation dataset and collect the RMSE scores.\n",
    "# What's the standard deviation of all the scores? To compute the standard deviation, use np.std.\n",
    "# Round the result to 3 decimal digits (round(std, 3))\n",
    "\n",
    "ss=[]\n",
    "for s in [0, 1, 2, 3, 4, 5, 6, 7, 8, 9]:\n",
    "    n=len(df)\n",
    "    idx=np.arange(n)\n",
    "    np.random.seed(s)\n",
    "    np.random.shuffle(idx)\n",
    "    \n",
    "    n_val= int(n*0.2)\n",
    "    n_test= int(n*0.2)\n",
    "    n_train= int (n-n_val-n_test)\n",
    "\n",
    "\n",
    "    df_train=df.iloc[idx[:n_train]]\n",
    "    df_val= df.iloc[idx[n_train:n_val+n_train]]\n",
    "    df_test=df.iloc[idx[n_train+n_val:]]\n",
    "    \n",
    "    y_train=np.log1p(df_train.median_house_value.values)\n",
    "    y_val= np.log1p(df_val.median_house_value.values)\n",
    "    y_test=np.log1p(df_test.median_house_value.values)\n",
    "\n",
    "    del df_train['median_house_value']\n",
    "    del df_val['median_house_value']\n",
    "    del df_test['median_house_value']\n",
    "\n",
    "    df_train_O=df_train.fillna(0)\n",
    "    df_val_O=df_val.fillna(0)\n",
    "\n",
    "    w0,w=train_linear_regression(df_train_O.values,y_train)\n",
    "    y_pred_0=w0+df_val_O.dot(w)\n",
    "    \n",
    "    scores=rmse(y_val,y_pred_0)\n",
    "    ss.append(scores)\n",
    "std=round(np.std(np.array(ss)),3)"
   ]
  },
  {
   "cell_type": "code",
   "execution_count": 62,
   "id": "52a1a323",
   "metadata": {},
   "outputs": [
    {
     "name": "stdout",
     "output_type": "stream",
     "text": [
      "0.005\n"
     ]
    }
   ],
   "source": [
    "print(std)"
   ]
  },
  {
   "cell_type": "code",
   "execution_count": 30,
   "id": "15f2f71c",
   "metadata": {},
   "outputs": [
    {
     "data": {
      "text/plain": [
       "0.33"
      ]
     },
     "execution_count": 30,
     "metadata": {},
     "output_type": "execute_result"
    }
   ],
   "source": [
    "#Split the dataset like previously, use seed 9.\n",
    "#Combine train and validation datasets.\n",
    "#Fill the missing values with 0 and train a model with r=0.001.\n",
    "#What's the RMSE on the test dataset?\n",
    "\n",
    "n=len(df)\n",
    "idx=np.arange(n)\n",
    "np.random.seed(9)\n",
    "np.random.shuffle(idx)\n",
    "    \n",
    "n_val= int(n*0.2)\n",
    "n_test= int(n*0.2)\n",
    "n_train= int (n-n_val-n_test)\n",
    "\n",
    "\n",
    "df_train=df.iloc[idx[:n_train]]\n",
    "df_val= df.iloc[idx[n_train:n_val+n_train]]\n",
    "df_test=df.iloc[idx[n_train+n_val:]]\n",
    "df_concat=df.iloc[idx[:n_train+n_val]]\n",
    "\n",
    "y_train=np.log1p(df_train.median_house_value.values)\n",
    "y_val= np.log1p(df_val.median_house_value.values)\n",
    "y_test=np.log1p(df_test.median_house_value.values)\n",
    "y_concat=np.log1p(df_concat.median_house_value.values)\n",
    "\n",
    "del df_train['median_house_value']\n",
    "del df_val['median_house_value']\n",
    "del df_test['median_house_value']\n",
    "del df_concat['median_house_value']\n",
    "\n",
    "df_concat_O=df_concat.fillna(0)\n",
    "df_test_O=df_test.fillna(0)\n",
    "\n",
    "w0,w=train_linear_regression_reg(df_concat_O,y_concat,r=0.001)\n",
    "y_pred_O=w0+df_test_O.dot(w)\n",
    "\n",
    "round(rmse(y_test,y_pred_O),2)"
   ]
  },
  {
   "cell_type": "code",
   "execution_count": null,
   "id": "dc293162",
   "metadata": {},
   "outputs": [],
   "source": []
  }
 ],
 "metadata": {
  "kernelspec": {
   "display_name": "Python 3 (ipykernel)",
   "language": "python",
   "name": "python3"
  },
  "language_info": {
   "codemirror_mode": {
    "name": "ipython",
    "version": 3
   },
   "file_extension": ".py",
   "mimetype": "text/x-python",
   "name": "python",
   "nbconvert_exporter": "python",
   "pygments_lexer": "ipython3",
   "version": "3.10.9"
  },
  "toc": {
   "base_numbering": 1,
   "nav_menu": {},
   "number_sections": true,
   "sideBar": true,
   "skip_h1_title": false,
   "title_cell": "Table of Contents",
   "title_sidebar": "Contents",
   "toc_cell": false,
   "toc_position": {},
   "toc_section_display": true,
   "toc_window_display": false
  }
 },
 "nbformat": 4,
 "nbformat_minor": 5
}
